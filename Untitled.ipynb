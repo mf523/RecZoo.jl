{
 "cells": [
  {
   "cell_type": "code",
   "execution_count": 1,
   "metadata": {},
   "outputs": [
    {
     "name": "stdout",
     "output_type": "stream",
     "text": [
      "\u001b[32m\u001b[1m  Updating\u001b[22m\u001b[39m registry at `~/.julia/registries/General`\n",
      "\u001b[32m\u001b[1m  Updating\u001b[22m\u001b[39m git-repo `https://github.com/JuliaRegistries/General.git`\n",
      "\u001b[?25l\u001b[2K\u001b[?25h\u001b[32m\u001b[1m Resolving\u001b[22m\u001b[39m package versions...\n",
      "\u001b[32m\u001b[1m  Updating\u001b[22m\u001b[39m `~/Workshop/RecZoo.jl.git/Project.toml`\n",
      "\u001b[90m [no changes]\u001b[39m\n",
      "\u001b[32m\u001b[1m  Updating\u001b[22m\u001b[39m `~/Workshop/RecZoo.jl.git/Manifest.toml`\n",
      "\u001b[90m [no changes]\u001b[39m\n",
      "\u001b[32m\u001b[1mPrecompiling\u001b[22m\u001b[39m project...\n",
      "\u001b[32m\u001b[1mPrecompiling\u001b[22m\u001b[39m DataFrames\n"
     ]
    },
    {
     "name": "stderr",
     "output_type": "stream",
     "text": [
      "┌ Info: Precompiling DataFrames [a93c6f00-e57d-5684-b7b6-d8193f3e46c0]\n",
      "└ @ Base loading.jl:1273\n",
      "WARNING: Compat.Statistics is deprecated, use Statistics instead.\n",
      "  likely near /Users/fengmia/.julia/packages/CategoricalArrays/u89s1/src/extras.jl:1\n"
     ]
    }
   ],
   "source": [
    "using Pkg\n",
    "#Pkg.rm(\"RecZoo\")\n",
    "#Pkg.add(PackageSpec(url=\"https://github.com/mf523/RecZoo.jl\"))\n",
    "Pkg.update()\n",
    "Pkg.precompile()\n",
    "Pkg.add(\"Revise\")"
   ]
  },
  {
   "cell_type": "code",
   "execution_count": 5,
   "metadata": {},
   "outputs": [
    {
     "name": "stdout",
     "output_type": "stream",
     "text": [
      "Dict((\"GroupLens\", \"ml-20mx16x32\") => (\"http://files.grouplens.org/datasets/movielens/ml-20mx16x32.tar\", \"\"),(\"GroupLens\", \"ml-100k\") => (\"http://files.grouplens.org/datasets/movielens/ml-100k.zip\", \"\"),(\"GroupLens\", \"ml-latest-small\") => (\"http://files.grouplens.org/datasets/movielens/ml-latest-small.zip\", \"\"),(\"GroupLens\", \"ml-latest\") => (\"http://files.grouplens.org/datasets/movielens/ml-latest.zip\", \"\"),(\"GroupLens\", \"ml-20m\") => (\"http://files.grouplens.org/datasets/movielens/ml-20m.zip\", \"\"))\n"
     ]
    }
   ],
   "source": [
    "using Revise\n",
    "#import RecZoo\n",
    "using RecZoo\n",
    "println(RecZoo.Datasets)"
   ]
  },
  {
   "cell_type": "code",
   "execution_count": null,
   "metadata": {},
   "outputs": [],
   "source": []
  }
 ],
 "metadata": {
  "kernelspec": {
   "display_name": "Julia 1.3.0",
   "language": "julia",
   "name": "julia-1.3"
  },
  "language_info": {
   "file_extension": ".jl",
   "mimetype": "application/julia",
   "name": "julia",
   "version": "1.3.0"
  }
 },
 "nbformat": 4,
 "nbformat_minor": 4
}
